{
 "cells": [
  {
   "cell_type": "code",
   "execution_count": 1,
   "id": "35b43f1d-b439-4209-9a74-b1167c977172",
   "metadata": {},
   "outputs": [],
   "source": [
    "import tensorflow as tf\n",
    "import numpy as np\n",
    "from tensorflow.keras.preprocessing import image"
   ]
  },
  {
   "cell_type": "code",
   "execution_count": 11,
   "id": "fe30f7ff-5899-4d52-b7ef-ea1d8a40e158",
   "metadata": {},
   "outputs": [],
   "source": [
    "model = tf.keras.models.load_model(\"alzheimers_classification_model.h5\")\n",
    "\n",
    "class_labels = [\"MildDemented\", \"ModerateDemented\", \"NonDemented\", \"VeryMildDemented\"]"
   ]
  },
  {
   "cell_type": "code",
   "execution_count": 12,
   "id": "b1375230-ccfe-4080-b973-2d5f0d31c9c1",
   "metadata": {},
   "outputs": [],
   "source": [
    "def predict_alzheimers(img_path):\n",
    "\n",
    "    img = image.load_img(img_path, target_size=(150, 150))\n",
    "    img_array = image.img_to_array(img)\n",
    "    img_array = np.expand_dims(img_array, axis=0)\n",
    "    img_array /= 255.0\n",
    "\n",
    "    predictions = model.predict(img_array)\n",
    "    predicted_class = np.argmax(predictions) \n",
    "    confidence = np.max(predictions) * 100 \n",
    "\n",
    "    result = f\"Predicted Class: {class_labels[predicted_class]} with {confidence:.2f}% confidence.\"\n",
    "    print(result)\n",
    "    return result"
   ]
  },
  {
   "cell_type": "code",
   "execution_count": 13,
   "id": "437f3d65-f9db-4881-a34a-057380188052",
   "metadata": {},
   "outputs": [
    {
     "name": "stdout",
     "output_type": "stream",
     "text": [
      "1/1 [==============================] - 0s 52ms/step\n",
      "Predicted Class: MildDemented with 100.00% confidence.\n"
     ]
    },
    {
     "data": {
      "text/plain": [
       "'Predicted Class: MildDemented with 100.00% confidence.'"
      ]
     },
     "execution_count": 13,
     "metadata": {},
     "output_type": "execute_result"
    }
   ],
   "source": [
    "image_path = \"./test.jpg\"\n",
    "predict_alzheimers(image_path)"
   ]
  }
 ],
 "metadata": {
  "kernelspec": {
   "display_name": "Python 3 (ipykernel)",
   "language": "python",
   "name": "python3"
  },
  "language_info": {
   "codemirror_mode": {
    "name": "ipython",
    "version": 3
   },
   "file_extension": ".py",
   "mimetype": "text/x-python",
   "name": "python",
   "nbconvert_exporter": "python",
   "pygments_lexer": "ipython3",
   "version": "3.10.11"
  }
 },
 "nbformat": 4,
 "nbformat_minor": 5
}
