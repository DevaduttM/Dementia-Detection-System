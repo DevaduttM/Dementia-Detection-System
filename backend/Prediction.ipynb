{
 "cells": [
  {
   "cell_type": "code",
   "execution_count": 7,
   "id": "35b43f1d-b439-4209-9a74-b1167c977172",
   "metadata": {},
   "outputs": [],
   "source": [
    "import tensorflow as tf\n",
    "import numpy as np\n",
    "from tensorflow.keras.preprocessing import image"
   ]
  },
  {
   "cell_type": "code",
   "execution_count": 8,
   "id": "fe30f7ff-5899-4d52-b7ef-ea1d8a40e158",
   "metadata": {},
   "outputs": [],
   "source": [
    "model = tf.keras.models.load_model(\"alzheimers_classification_model.h5\", compile=False)\n",
    "\n",
    "class_labels = [\"MildDemented\", \"ModerateDemented\", \"NonDemented\", \"VeryMildDemented\"]"
   ]
  },
  {
   "cell_type": "code",
   "execution_count": 3,
   "id": "b1375230-ccfe-4080-b973-2d5f0d31c9c1",
   "metadata": {},
   "outputs": [],
   "source": [
    "def predict_alzheimers(img_path):\n",
    "\n",
    "    img = image.load_img(img_path, target_size=(150, 150))\n",
    "    img_array = image.img_to_array(img)\n",
    "    img_array = np.expand_dims(img_array, axis=0)\n",
    "    img_array /= 255.0\n",
    "\n",
    "    predictions = model.predict(img_array)\n",
    "    predicted_class = np.argmax(predictions) \n",
    "    confidence = np.max(predictions) * 100 \n",
    "\n",
    "    result = f\"Predicted Class: {class_labels[predicted_class]} with {confidence:.2f}% confidence.\"\n",
    "    print(result)\n",
    "    return result"
   ]
  },
  {
   "cell_type": "code",
   "execution_count": 4,
   "id": "437f3d65-f9db-4881-a34a-057380188052",
   "metadata": {},
   "outputs": [
    {
     "name": "stdout",
     "output_type": "stream",
     "text": [
      "\u001b[1m1/1\u001b[0m \u001b[32m━━━━━━━━━━━━━━━━━━━━\u001b[0m\u001b[37m\u001b[0m \u001b[1m0s\u001b[0m 71ms/step\n",
      "Predicted Class: VeryMildDemented with 61.47% confidence.\n"
     ]
    },
    {
     "data": {
      "text/plain": [
       "'Predicted Class: VeryMildDemented with 61.47% confidence.'"
      ]
     },
     "execution_count": 4,
     "metadata": {},
     "output_type": "execute_result"
    }
   ],
   "source": [
    "image_path = \"./test.jpeg\"\n",
    "predict_alzheimers(image_path)"
   ]
  },
  {
   "cell_type": "code",
   "execution_count": null,
   "id": "b7c01983",
   "metadata": {},
   "outputs": [],
   "source": []
  }
 ],
 "metadata": {
  "kernelspec": {
   "display_name": "Python 3",
   "language": "python",
   "name": "python3"
  },
  "language_info": {
   "codemirror_mode": {
    "name": "ipython",
    "version": 3
   },
   "file_extension": ".py",
   "mimetype": "text/x-python",
   "name": "python",
   "nbconvert_exporter": "python",
   "pygments_lexer": "ipython3",
   "version": "3.12.4"
  }
 },
 "nbformat": 4,
 "nbformat_minor": 5
}
