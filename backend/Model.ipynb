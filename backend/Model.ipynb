{
 "cells": [
  {
   "cell_type": "code",
   "execution_count": 1,
   "id": "43b8a9f4-3a2a-4cf0-8a5f-16e2f4ee2c53",
   "metadata": {},
   "outputs": [],
   "source": [
    "import tensorflow as tf\n",
    "from tensorflow.keras.preprocessing.image import ImageDataGenerator\n",
    "from tensorflow.keras.models import Sequential\n",
    "from tensorflow.keras.layers import Conv2D, MaxPooling2D, Flatten, Dense, Dropout"
   ]
  },
  {
   "cell_type": "code",
   "execution_count": 2,
   "id": "6460dbfb-479f-45a3-9d4d-facec52811e4",
   "metadata": {},
   "outputs": [],
   "source": [
    "dataset_dir = \"combined_images\"\n",
    "\n",
    "IMG_HEIGHT = 150\n",
    "IMG_WIDTH = 150\n",
    "BATCH_SIZE = 32\n",
    "\n",
    "datagen = ImageDataGenerator(\n",
    "    rescale=1.0/255, \n",
    "    validation_split=0.2\n",
    ")"
   ]
  },
  {
   "cell_type": "code",
   "execution_count": 3,
   "id": "24178ef1-ce88-4ce2-befd-95f589a3c176",
   "metadata": {},
   "outputs": [
    {
     "name": "stdout",
     "output_type": "stream",
     "text": [
      "Found 35200 images belonging to 4 classes.\n",
      "Found 8800 images belonging to 4 classes.\n"
     ]
    }
   ],
   "source": [
    "train_generator = datagen.flow_from_directory(\n",
    "    dataset_dir,\n",
    "    target_size=(IMG_HEIGHT, IMG_WIDTH),\n",
    "    batch_size=BATCH_SIZE,\n",
    "    class_mode='categorical',\n",
    "    subset='training'\n",
    ")\n",
    "\n",
    "val_generator = datagen.flow_from_directory(\n",
    "    dataset_dir,\n",
    "    target_size=(IMG_HEIGHT, IMG_WIDTH),\n",
    "    batch_size=BATCH_SIZE,\n",
    "    class_mode='categorical',\n",
    "    subset='validation'\n",
    ")"
   ]
  },
  {
   "cell_type": "code",
   "execution_count": 4,
   "id": "8893fc00-312f-433e-913d-853feb5b0f8d",
   "metadata": {},
   "outputs": [],
   "source": [
    "model = Sequential([\n",
    "    Conv2D(32, (3,3), activation='relu', input_shape=(IMG_HEIGHT, IMG_WIDTH, 3)),\n",
    "    MaxPooling2D(2,2),\n",
    "    Conv2D(64, (3,3), activation='relu'),\n",
    "    MaxPooling2D(2,2),\n",
    "    Conv2D(128, (3,3), activation='relu'),\n",
    "    MaxPooling2D(2,2),\n",
    "    Flatten(),\n",
    "    Dense(128, activation='relu'),\n",
    "    Dropout(0.5),\n",
    "    Dense(4, activation='softmax')\n",
    "])"
   ]
  },
  {
   "cell_type": "code",
   "execution_count": 5,
   "id": "093086fb-bf0d-4b23-985b-2abce73fef3f",
   "metadata": {},
   "outputs": [
    {
     "name": "stdout",
     "output_type": "stream",
     "text": [
      "Epoch 1/10\n",
      "1100/1100 [==============================] - 221s 195ms/step - loss: 0.8174 - accuracy: 0.6250 - val_loss: 0.5205 - val_accuracy: 0.7799\n",
      "Epoch 2/10\n",
      "1100/1100 [==============================] - 30s 27ms/step - loss: 0.4527 - accuracy: 0.8056 - val_loss: 0.3109 - val_accuracy: 0.8701\n",
      "Epoch 3/10\n",
      "1100/1100 [==============================] - 29s 27ms/step - loss: 0.3076 - accuracy: 0.8709 - val_loss: 0.2384 - val_accuracy: 0.9043\n",
      "Epoch 4/10\n",
      "1100/1100 [==============================] - 29s 27ms/step - loss: 0.2418 - accuracy: 0.8986 - val_loss: 0.2210 - val_accuracy: 0.9159\n",
      "Epoch 5/10\n",
      "1100/1100 [==============================] - 30s 27ms/step - loss: 0.2013 - accuracy: 0.9180 - val_loss: 0.2032 - val_accuracy: 0.9186\n",
      "Epoch 6/10\n",
      "1100/1100 [==============================] - 29s 26ms/step - loss: 0.1701 - accuracy: 0.9304 - val_loss: 0.1915 - val_accuracy: 0.9282\n",
      "Epoch 7/10\n",
      "1100/1100 [==============================] - 29s 26ms/step - loss: 0.1473 - accuracy: 0.9391 - val_loss: 0.1974 - val_accuracy: 0.9295\n",
      "Epoch 8/10\n",
      "1100/1100 [==============================] - 29s 26ms/step - loss: 0.1401 - accuracy: 0.9424 - val_loss: 0.1894 - val_accuracy: 0.9294\n",
      "Epoch 9/10\n",
      "1100/1100 [==============================] - 29s 26ms/step - loss: 0.1180 - accuracy: 0.9523 - val_loss: 0.2319 - val_accuracy: 0.9314\n",
      "Epoch 10/10\n",
      "1100/1100 [==============================] - 29s 26ms/step - loss: 0.1078 - accuracy: 0.9559 - val_loss: 0.2259 - val_accuracy: 0.9339\n"
     ]
    }
   ],
   "source": [
    "model.compile(optimizer='adam', loss='categorical_crossentropy', metrics=['accuracy'])\n",
    "\n",
    "EPOCHS = 10\n",
    "history = model.fit(\n",
    "    train_generator,\n",
    "    validation_data=val_generator,\n",
    "    epochs=EPOCHS\n",
    ")"
   ]
  },
  {
   "cell_type": "code",
   "execution_count": 6,
   "id": "36a20988-9b41-4151-8165-c6bae776b2df",
   "metadata": {},
   "outputs": [
    {
     "name": "stdout",
     "output_type": "stream",
     "text": [
      "275/275 [==============================] - 6s 22ms/step - loss: 0.2259 - accuracy: 0.9339\n",
      "Overall Validation Accuracy: 93.39%\n",
      "Model training complete and saved as 'alzheimers_classification_model.h5'.\n"
     ]
    }
   ],
   "source": [
    "val_loss, val_accuracy = model.evaluate(val_generator)\n",
    "print(f\"Overall Validation Accuracy: {val_accuracy * 100:.2f}%\")\n",
    "\n",
    "model.save(\"alzheimers_classification_model.h5\")\n",
    "\n",
    "print(\"Model training complete and saved as 'alzheimers_classification_model.h5'.\")"
   ]
  }
 ],
 "metadata": {
  "kernelspec": {
   "display_name": "Python 3 (ipykernel)",
   "language": "python",
   "name": "python3"
  },
  "language_info": {
   "codemirror_mode": {
    "name": "ipython",
    "version": 3
   },
   "file_extension": ".py",
   "mimetype": "text/x-python",
   "name": "python",
   "nbconvert_exporter": "python",
   "pygments_lexer": "ipython3",
   "version": "3.10.11"
  }
 },
 "nbformat": 4,
 "nbformat_minor": 5
}
